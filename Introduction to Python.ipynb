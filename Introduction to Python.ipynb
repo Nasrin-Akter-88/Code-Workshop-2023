{
 "cells": [
  {
   "cell_type": "markdown",
   "id": "886d447d",
   "metadata": {},
   "source": [
    "# Introduction to Python"
   ]
  },
  {
   "attachments": {},
   "cell_type": "markdown",
   "id": "67d0ccd6",
   "metadata": {},
   "source": [
    "#### print( ) function"
   ]
  },
  {
   "cell_type": "code",
   "execution_count": 1,
   "id": "32fa2db0",
   "metadata": {
    "scrolled": true
   },
   "outputs": [
    {
     "name": "stdout",
     "output_type": "stream",
     "text": [
      "Hello, World!\n"
     ]
    }
   ],
   "source": [
    "print(\"Hello, World!\")"
   ]
  },
  {
   "cell_type": "code",
   "execution_count": 2,
   "id": "4583be03",
   "metadata": {},
   "outputs": [
    {
     "name": "stdout",
     "output_type": "stream",
     "text": [
      "the world is beautiful~ the world is beautiful~ \n"
     ]
    }
   ],
   "source": [
    "print(\"the world is beautiful~ \" * 2)"
   ]
  },
  {
   "cell_type": "markdown",
   "id": "0a3a2259",
   "metadata": {},
   "source": [
    "### string Formatting"
   ]
  },
  {
   "cell_type": "code",
   "execution_count": 58,
   "id": "420d91b6",
   "metadata": {},
   "outputs": [
    {
     "name": "stdout",
     "output_type": "stream",
     "text": [
      "Marry is 6 years old\n"
     ]
    }
   ],
   "source": [
    "'''The purpose of using the format() method is to make the message dynamic by inserting the actual values of name and age \n",
    "into the string, allowing you to easily change the name and age without modifying the string itself. It provides a more flexible\n",
    "and readable way to create formatted output.'''\n",
    "\n",
    "name= \"Marry\"\n",
    "age=6\n",
    "\n",
    "print(\"{} is {} years old\".format(name, age))"
   ]
  },
  {
   "cell_type": "code",
   "execution_count": 4,
   "id": "17d64163",
   "metadata": {},
   "outputs": [
    {
     "name": "stdout",
     "output_type": "stream",
     "text": [
      "Marry is 6 years old\n"
     ]
    }
   ],
   "source": [
    "# more compact\n",
    "print(f\"{name} is {age} years old\")"
   ]
  },
  {
   "cell_type": "code",
   "execution_count": 5,
   "id": "af60a4e4",
   "metadata": {},
   "outputs": [
    {
     "name": "stdout",
     "output_type": "stream",
     "text": [
      "lisa john harris\n"
     ]
    }
   ],
   "source": [
    "# starred expression takes each element of the list and passes them as separate arguments\n",
    "print(*[\"lisa\", \"john\", \"harris\"])"
   ]
  },
  {
   "cell_type": "code",
   "execution_count": 6,
   "id": "848fde1d",
   "metadata": {},
   "outputs": [
    {
     "name": "stdout",
     "output_type": "stream",
     "text": [
      "['lisa', 'john', 'harris']\n"
     ]
    }
   ],
   "source": [
    "# prints the entire list as a single object\n",
    "print([\"lisa\", \"john\", \"harris\"])"
   ]
  },
  {
   "cell_type": "markdown",
   "id": "cbc07417",
   "metadata": {},
   "source": [
    "#### Sep argument"
   ]
  },
  {
   "cell_type": "code",
   "execution_count": 7,
   "id": "94e57441",
   "metadata": {},
   "outputs": [
    {
     "name": "stdout",
     "output_type": "stream",
     "text": [
      "1\n",
      "2\n",
      "3\n",
      "4\n"
     ]
    }
   ],
   "source": [
    "# \\n starts a new line\n",
    "print(*[1, 2, 3, 4], sep=\"\\n\")"
   ]
  },
  {
   "cell_type": "code",
   "execution_count": 8,
   "id": "ee5c4906",
   "metadata": {},
   "outputs": [
    {
     "name": "stdout",
     "output_type": "stream",
     "text": [
      "Hello-world\n"
     ]
    }
   ],
   "source": [
    "# use a seperator as -\n",
    "print(\"Hello\",\"world\", sep = \"-\")"
   ]
  },
  {
   "attachments": {},
   "cell_type": "markdown",
   "id": "cc539e7f",
   "metadata": {},
   "source": [
    "#### end argument"
   ]
  },
  {
   "cell_type": "code",
   "execution_count": 9,
   "id": "c3b7e37e",
   "metadata": {},
   "outputs": [
    {
     "name": "stdout",
     "output_type": "stream",
     "text": [
      "Result of experiment is 20!"
     ]
    }
   ],
   "source": [
    "result=20\n",
    "print(\"Result of experiment\", result, sep=\" is \", end=\"!\")"
   ]
  },
  {
   "attachments": {},
   "cell_type": "markdown",
   "id": "95ac1703",
   "metadata": {},
   "source": [
    "#### check the variable type using the function type( ) "
   ]
  },
  {
   "cell_type": "code",
   "execution_count": 54,
   "id": "44be1824",
   "metadata": {},
   "outputs": [
    {
     "data": {
      "text/plain": [
       "str"
      ]
     },
     "execution_count": 54,
     "metadata": {},
     "output_type": "execute_result"
    }
   ],
   "source": [
    "a= \"We love Coding\"\n",
    "type(a)\n"
   ]
  },
  {
   "cell_type": "code",
   "execution_count": 59,
   "id": "8e77a0fd",
   "metadata": {},
   "outputs": [
    {
     "data": {
      "text/plain": [
       "float"
      ]
     },
     "execution_count": 59,
     "metadata": {},
     "output_type": "execute_result"
    }
   ],
   "source": [
    "a= 5.2\n",
    "type(a)"
   ]
  },
  {
   "cell_type": "code",
   "execution_count": 60,
   "id": "75240518",
   "metadata": {},
   "outputs": [
    {
     "data": {
      "text/plain": [
       "int"
      ]
     },
     "execution_count": 60,
     "metadata": {},
     "output_type": "execute_result"
    }
   ],
   "source": [
    "b=3\n",
    "type(b)"
   ]
  },
  {
   "cell_type": "markdown",
   "id": "b31be4ed",
   "metadata": {},
   "source": [
    "#### Boolean variable"
   ]
  },
  {
   "cell_type": "code",
   "execution_count": 62,
   "id": "f52c29da",
   "metadata": {},
   "outputs": [
    {
     "name": "stdout",
     "output_type": "stream",
     "text": [
      "True\n"
     ]
    }
   ],
   "source": [
    "x = 0\n",
    "print(isinstance(x, int))"
   ]
  },
  {
   "attachments": {},
   "cell_type": "markdown",
   "id": "d664f6d3",
   "metadata": {},
   "source": [
    "#### Typecasting: Typecasting from an integer to a boolean can be useful when you want to interpret an integer value as a boolean representation. In Python, any non-zero integer is considered True, and the integer 0 is considered False."
   ]
  },
  {
   "cell_type": "code",
   "execution_count": 61,
   "id": "d4c35cfa",
   "metadata": {},
   "outputs": [
    {
     "name": "stdout",
     "output_type": "stream",
     "text": [
      "True\n",
      "False\n"
     ]
    }
   ],
   "source": [
    "integer_value = 5\n",
    "boolean_value = bool(integer_value)\n",
    "print(boolean_value)  \n",
    "\n",
    "integer_value = 0 \n",
    "boolean_value = bool(integer_value)\n",
    "print(boolean_value) "
   ]
  },
  {
   "cell_type": "code",
   "execution_count": 63,
   "id": "e0f520b9",
   "metadata": {},
   "outputs": [
    {
     "name": "stdout",
     "output_type": "stream",
     "text": [
      "True\n"
     ]
    }
   ],
   "source": [
    "integer_value = -10\n",
    "boolean_value = bool(integer_value)\n",
    "print(boolean_value)"
   ]
  },
  {
   "cell_type": "code",
   "execution_count": 64,
   "id": "4f1e4ff1",
   "metadata": {},
   "outputs": [
    {
     "name": "stdout",
     "output_type": "stream",
     "text": [
      "True\n",
      "False\n"
     ]
    }
   ],
   "source": [
    "float_value = 3.14\n",
    "boolean_value = bool(float_value)\n",
    "print(boolean_value)  \n",
    "\n",
    "float_value = 0.0\n",
    "boolean_value = bool(float_value)\n",
    "print(boolean_value) "
   ]
  },
  {
   "cell_type": "markdown",
   "id": "ba59e891",
   "metadata": {},
   "source": [
    "####  strings are considered immutable, which means once a string is created, its contents cannot be changed. You cannot modify individual characters within a string or replace a character directly. Instead, you need to create a new string if you want to make any changes to its contents. This behavior is in contrast to mutable data types, such as lists, where you can modify individual elements."
   ]
  },
  {
   "cell_type": "code",
   "execution_count": 65,
   "id": "51598041",
   "metadata": {},
   "outputs": [
    {
     "ename": "TypeError",
     "evalue": "'str' object does not support item assignment",
     "output_type": "error",
     "traceback": [
      "\u001b[1;31m---------------------------------------------------------------------------\u001b[0m",
      "\u001b[1;31mTypeError\u001b[0m                                 Traceback (most recent call last)",
      "Cell \u001b[1;32mIn[65], line 2\u001b[0m\n\u001b[0;32m      1\u001b[0m my_string \u001b[38;5;241m=\u001b[39m \u001b[38;5;124m\"\u001b[39m\u001b[38;5;124mHello\u001b[39m\u001b[38;5;124m\"\u001b[39m\n\u001b[1;32m----> 2\u001b[0m my_string[\u001b[38;5;241m0\u001b[39m] \u001b[38;5;241m=\u001b[39m \u001b[38;5;124m\"\u001b[39m\u001b[38;5;124mM\u001b[39m\u001b[38;5;124m\"\u001b[39m\n",
      "\u001b[1;31mTypeError\u001b[0m: 'str' object does not support item assignment"
     ]
    }
   ],
   "source": [
    "my_string = \"Hello\"\n",
    "my_string[0] = \"M\" "
   ]
  },
  {
   "cell_type": "code",
   "execution_count": 66,
   "id": "f75fb313",
   "metadata": {},
   "outputs": [
    {
     "name": "stdout",
     "output_type": "stream",
     "text": [
      "Mello\n"
     ]
    }
   ],
   "source": [
    "# Creating a new string with changes\n",
    "original_string = \"Hello\"\n",
    "new_string = original_string.replace(\"H\", \"M\")\n",
    "print(new_string)"
   ]
  },
  {
   "cell_type": "code",
   "execution_count": 12,
   "id": "e32b26da",
   "metadata": {},
   "outputs": [
    {
     "name": "stdout",
     "output_type": "stream",
     "text": [
      "123\n",
      "<class 'int'>\n"
     ]
    }
   ],
   "source": [
    "string_value = \"123\"\n",
    "integer_value = int(string_value)\n",
    "print(integer_value)  \n",
    "print(type(integer_value))  "
   ]
  },
  {
   "cell_type": "code",
   "execution_count": 5,
   "id": "0b750425",
   "metadata": {},
   "outputs": [
    {
     "name": "stdout",
     "output_type": "stream",
     "text": [
      "6\n"
     ]
    }
   ],
   "source": [
    "b = 2\n",
    "b = 4 + b\n",
    "print(b)\n"
   ]
  },
  {
   "cell_type": "code",
   "execution_count": 6,
   "id": "112e8457",
   "metadata": {},
   "outputs": [
    {
     "name": "stdout",
     "output_type": "stream",
     "text": [
      "2125138428304\n"
     ]
    }
   ],
   "source": [
    "n = 6\n",
    "id(n)\n"
   ]
  },
  {
   "cell_type": "code",
   "execution_count": 7,
   "id": "e3828aa0",
   "metadata": {},
   "outputs": [
    {
     "data": {
      "text/plain": [
       "2125138428432"
      ]
     },
     "execution_count": 7,
     "metadata": {},
     "output_type": "execute_result"
    }
   ],
   "source": [
    "n = n + 4\n",
    "id(n)"
   ]
  },
  {
   "cell_type": "markdown",
   "id": "b30e93de",
   "metadata": {},
   "source": [
    "## Arithmetic Operators"
   ]
  },
  {
   "cell_type": "code",
   "execution_count": 10,
   "id": "5ac39707",
   "metadata": {},
   "outputs": [
    {
     "name": "stdout",
     "output_type": "stream",
     "text": [
      "The addition of a and b is 13 \n"
     ]
    }
   ],
   "source": [
    "# Arithmetic operators:\n",
    "a = 10\n",
    "b = 3\n",
    "\n",
    "# Addition\n",
    "c = a + b\n",
    "print(f\"The addition of a and b is {c} \") "
   ]
  },
  {
   "cell_type": "code",
   "execution_count": 11,
   "id": "859de1f0",
   "metadata": {},
   "outputs": [
    {
     "name": "stdout",
     "output_type": "stream",
     "text": [
      "The subtraction of a and b is 7 \n"
     ]
    }
   ],
   "source": [
    "# Subtraction\n",
    "c = a - b\n",
    "print(f\"The subtraction of a and b is {c} \") "
   ]
  },
  {
   "cell_type": "code",
   "execution_count": 12,
   "id": "3696bf05",
   "metadata": {},
   "outputs": [
    {
     "name": "stdout",
     "output_type": "stream",
     "text": [
      "The multiplication of a and b is 30 \n"
     ]
    }
   ],
   "source": [
    "# Multiplication\n",
    "c = a * b\n",
    "print(f\"The multiplication of a and b is {c} \") "
   ]
  },
  {
   "cell_type": "code",
   "execution_count": 13,
   "id": "b3b27657",
   "metadata": {},
   "outputs": [
    {
     "name": "stdout",
     "output_type": "stream",
     "text": [
      "The division of a and b is 3.3333333333333335 \n"
     ]
    }
   ],
   "source": [
    "# Division\n",
    "c = a / b\n",
    "print(f\"The division of a and b is {c} \") "
   ]
  },
  {
   "cell_type": "code",
   "execution_count": 14,
   "id": "eb01d242",
   "metadata": {},
   "outputs": [
    {
     "name": "stdout",
     "output_type": "stream",
     "text": [
      "The floor division of a and b is 3 \n"
     ]
    }
   ],
   "source": [
    "# Floor Division\n",
    "c = a // b\n",
    "print(f\"The floor division of a and b is {c} \") "
   ]
  },
  {
   "cell_type": "code",
   "execution_count": 15,
   "id": "65c94620",
   "metadata": {},
   "outputs": [
    {
     "name": "stdout",
     "output_type": "stream",
     "text": [
      "The modulo of a and b is 1 \n"
     ]
    }
   ],
   "source": [
    "# Modulo\n",
    "c = a % b\n",
    "print(f\"The modulo of a and b is {c} \") "
   ]
  },
  {
   "cell_type": "code",
   "execution_count": 17,
   "id": "62f9d2a4",
   "metadata": {},
   "outputs": [
    {
     "name": "stdout",
     "output_type": "stream",
     "text": [
      "The Exponent b of a is 1000 \n"
     ]
    }
   ],
   "source": [
    "# Exponentiation\n",
    "c = a ** b\n",
    "print(f\"The Exponent b of a is {c} \") \n"
   ]
  },
  {
   "cell_type": "markdown",
   "id": "281b0e4e",
   "metadata": {},
   "source": [
    "## Comparison Operators"
   ]
  },
  {
   "cell_type": "code",
   "execution_count": 18,
   "id": "eadce0f2",
   "metadata": {},
   "outputs": [
    {
     "name": "stdout",
     "output_type": "stream",
     "text": [
      "False\n"
     ]
    }
   ],
   "source": [
    "a = 5\n",
    "b = 3\n",
    "\n",
    "# Equal to\n",
    "result = a == b\n",
    "print(result)  "
   ]
  },
  {
   "cell_type": "code",
   "execution_count": 19,
   "id": "75f1ba17",
   "metadata": {},
   "outputs": [
    {
     "name": "stdout",
     "output_type": "stream",
     "text": [
      "True\n"
     ]
    }
   ],
   "source": [
    "# Not equal to\n",
    "result = a != b\n",
    "print(result)  "
   ]
  },
  {
   "cell_type": "code",
   "execution_count": 20,
   "id": "e15acca2",
   "metadata": {},
   "outputs": [
    {
     "name": "stdout",
     "output_type": "stream",
     "text": [
      "True\n"
     ]
    }
   ],
   "source": [
    "# Greater than\n",
    "result = a > b\n",
    "print(result) "
   ]
  },
  {
   "cell_type": "code",
   "execution_count": 21,
   "id": "7b6a0855",
   "metadata": {},
   "outputs": [
    {
     "name": "stdout",
     "output_type": "stream",
     "text": [
      "False\n"
     ]
    }
   ],
   "source": [
    "# Less than\n",
    "result = a < b\n",
    "print(result)  "
   ]
  },
  {
   "cell_type": "code",
   "execution_count": 22,
   "id": "35943215",
   "metadata": {},
   "outputs": [
    {
     "name": "stdout",
     "output_type": "stream",
     "text": [
      "True\n"
     ]
    }
   ],
   "source": [
    "# Greater than or equal to\n",
    "result = a >= b\n",
    "print(result)"
   ]
  },
  {
   "cell_type": "code",
   "execution_count": 23,
   "id": "49148cff",
   "metadata": {},
   "outputs": [
    {
     "name": "stdout",
     "output_type": "stream",
     "text": [
      "False\n"
     ]
    }
   ],
   "source": [
    "# Less than or equal to\n",
    "result = a <= b\n",
    "print(result)"
   ]
  },
  {
   "cell_type": "markdown",
   "id": "22bc4ce0",
   "metadata": {},
   "source": [
    "## Assignment Operators"
   ]
  },
  {
   "cell_type": "code",
   "execution_count": 24,
   "id": "912cb56f",
   "metadata": {},
   "outputs": [
    {
     "name": "stdout",
     "output_type": "stream",
     "text": [
      "8\n"
     ]
    }
   ],
   "source": [
    "a = 5\n",
    "\n",
    "# Addition assignment\n",
    "a += 3  # Equivalent to: a = a + 3\n",
    "print(a)"
   ]
  },
  {
   "cell_type": "code",
   "execution_count": 28,
   "id": "8e0fb038",
   "metadata": {},
   "outputs": [
    {
     "name": "stdout",
     "output_type": "stream",
     "text": [
      "3\n"
     ]
    }
   ],
   "source": [
    "a = 5\n",
    "# Subtraction assignment\n",
    "a -= 2  # Equivalent to: a = a - 2\n",
    "print(a)  "
   ]
  },
  {
   "cell_type": "code",
   "execution_count": 29,
   "id": "59d64659",
   "metadata": {},
   "outputs": [
    {
     "name": "stdout",
     "output_type": "stream",
     "text": [
      "20\n"
     ]
    }
   ],
   "source": [
    "a = 5\n",
    "# Multiplication assignment\n",
    "a *= 4  # Equivalent to: a = a * 4\n",
    "print(a)  "
   ]
  },
  {
   "cell_type": "code",
   "execution_count": 30,
   "id": "d7916695",
   "metadata": {},
   "outputs": [
    {
     "name": "stdout",
     "output_type": "stream",
     "text": [
      "0.8333333333333334\n"
     ]
    }
   ],
   "source": [
    "a = 5\n",
    "# Division assignment\n",
    "a /= 6  # Equivalent to: a = a / 6\n",
    "print(a)  "
   ]
  },
  {
   "cell_type": "code",
   "execution_count": 31,
   "id": "02e8a36e",
   "metadata": {},
   "outputs": [
    {
     "name": "stdout",
     "output_type": "stream",
     "text": [
      "2\n"
     ]
    }
   ],
   "source": [
    "a = 5\n",
    "# Modulo assignment\n",
    "a %= 3  # Equivalent to: a = a % 3\n",
    "print(a)  "
   ]
  },
  {
   "cell_type": "code",
   "execution_count": 32,
   "id": "2b195fff",
   "metadata": {},
   "outputs": [
    {
     "name": "stdout",
     "output_type": "stream",
     "text": [
      "25\n"
     ]
    }
   ],
   "source": [
    "a = 5\n",
    "# Exponentiation assignment\n",
    "a **= 2  # Equivalent to: a = a ** 2\n",
    "print(a)  "
   ]
  },
  {
   "cell_type": "markdown",
   "id": "99188736",
   "metadata": {},
   "source": [
    "## String Indexing"
   ]
  },
  {
   "cell_type": "code",
   "execution_count": 14,
   "id": "6c9d9fc7",
   "metadata": {
    "scrolled": true
   },
   "outputs": [
    {
     "name": "stdout",
     "output_type": "stream",
     "text": [
      "A\n",
      "T\n"
     ]
    }
   ],
   "source": [
    "dna_seq = \"ANTGCTG\"\n",
    "print(dna_seq[0])\n",
    "print(dna_seq[5])\n"
   ]
  },
  {
   "cell_type": "markdown",
   "id": "2db0c38c",
   "metadata": {},
   "source": [
    "## String Slicing"
   ]
  },
  {
   "cell_type": "code",
   "execution_count": 15,
   "id": "7b034104",
   "metadata": {},
   "outputs": [
    {
     "name": "stdout",
     "output_type": "stream",
     "text": [
      "NTG\n"
     ]
    }
   ],
   "source": [
    "print(dna_seq[1:4])"
   ]
  },
  {
   "cell_type": "markdown",
   "id": "0b447342",
   "metadata": {},
   "source": [
    "#### The input() function takes an optional string argument that serves as the prompt message displayed to the user when waiting for input. The user can then type their response in the console and press Enter. The input provided by the user is returned as a string and can be stored in a variable "
   ]
  },
  {
   "cell_type": "code",
   "execution_count": 33,
   "id": "07d7833b",
   "metadata": {},
   "outputs": [
    {
     "name": "stdout",
     "output_type": "stream",
     "text": [
      "Please enter your name: Nasrin\n",
      "Hello, Nasrin! Nice to meet you.\n"
     ]
    }
   ],
   "source": [
    "name = input(\"Please enter your name: \")\n",
    "print(\"Hello, \" + name + \"! Nice to meet you.\")"
   ]
  },
  {
   "cell_type": "code",
   "execution_count": 16,
   "id": "89199416",
   "metadata": {},
   "outputs": [
    {
     "data": {
      "text/plain": [
       "7"
      ]
     },
     "execution_count": 16,
     "metadata": {},
     "output_type": "execute_result"
    }
   ],
   "source": [
    "len(dna_seq) # output7"
   ]
  },
  {
   "cell_type": "code",
   "execution_count": 17,
   "id": "6eb4731f",
   "metadata": {},
   "outputs": [
    {
     "name": "stdout",
     "output_type": "stream",
     "text": [
      "['AN', 'GC', 'G']\n"
     ]
    }
   ],
   "source": [
    "split_list = dna_seq.split(\"T\")\n",
    "print(split_list)  # Output: ['AN', 'GCTG']\n"
   ]
  },
  {
   "cell_type": "code",
   "execution_count": 18,
   "id": "c3e20106",
   "metadata": {},
   "outputs": [
    {
     "name": "stdout",
     "output_type": "stream",
     "text": [
      "ANAACAA\n"
     ]
    }
   ],
   "source": [
    "new_seq = dna_seq.replace(\"TG\", \"AA\")\n",
    "print(new_seq)  # Output: ANAACAA"
   ]
  },
  {
   "cell_type": "code",
   "execution_count": 19,
   "id": "ede85285",
   "metadata": {},
   "outputs": [
    {
     "name": "stdout",
     "output_type": "stream",
     "text": [
      "True\n"
     ]
    }
   ],
   "source": [
    "starts_with_AN = dna_seq.startswith(\"AN\")\n",
    "print(starts_with_AN)  # Output: True"
   ]
  },
  {
   "cell_type": "code",
   "execution_count": 20,
   "id": "eff823c6",
   "metadata": {},
   "outputs": [
    {
     "name": "stdout",
     "output_type": "stream",
     "text": [
      "True\n"
     ]
    }
   ],
   "source": [
    "ends_with_TG = dna_seq.endswith(\"TG\")\n",
    "print(ends_with_TG)  # Output: True"
   ]
  },
  {
   "attachments": {
    "image.png": {
     "image/png": "[encoded data removed]"
    }
   },
   "cell_type": "markdown",
   "id": "831b83ba",
   "metadata": {},
   "source": [
    "#### Exercise:\n",
    "dna_seq = ATgTCtCATTcAAAGCANNNNNATGCGAGTTATGA” \n",
    "Write a simple Python script to: \n",
    "Replace “N” into “G” in the variable dnaseq, and print the sequence\n",
    "Capitalize all the lowercase letters in the variable dnaseq and print the sequence \n",
    "Get the length of dnaseq and print the length\n",
    "Calculate the number of “G” in dnaseq and print the number\n",
    "![image.png](attachment:image.png)"
   ]
  },
  {
   "cell_type": "code",
   "execution_count": 37,
   "id": "be77efc0",
   "metadata": {},
   "outputs": [],
   "source": [
    "dna_seq = \"ATgTCtCATTcAAAGCANNNNNATGCGAGTTATGA\""
   ]
  },
  {
   "cell_type": "code",
   "execution_count": 38,
   "id": "dfd02f7a",
   "metadata": {},
   "outputs": [
    {
     "name": "stdout",
     "output_type": "stream",
     "text": [
      "ATgTCtCATTcAAAGCAGGGGGATGCGAGTTATGA\n"
     ]
    }
   ],
   "source": [
    "# Replace “N” into “G” in the variable dnaseq, and print the sequence\n",
    "new_seq = dna_seq.replace(\"N\", \"G\")\n",
    "print(new_seq)  "
   ]
  },
  {
   "cell_type": "code",
   "execution_count": 39,
   "id": "7ab09e56",
   "metadata": {},
   "outputs": [
    {
     "name": "stdout",
     "output_type": "stream",
     "text": [
      "ATGTCTCATTCAAAGCANNNNNATGCGAGTTATGA\n"
     ]
    }
   ],
   "source": [
    "#Capitalize all the lowercase letters and print the sequence \n",
    "upper_seq = dna_seq.upper()\n",
    "print(upper_seq)  "
   ]
  },
  {
   "cell_type": "code",
   "execution_count": 40,
   "id": "2d41b2d4",
   "metadata": {},
   "outputs": [
    {
     "name": "stdout",
     "output_type": "stream",
     "text": [
      "35\n"
     ]
    }
   ],
   "source": [
    "#Get the length and print the length\n",
    "length = len(dna_seq)\n",
    "print(length)  "
   ]
  },
  {
   "cell_type": "code",
   "execution_count": 42,
   "id": "545a5d64",
   "metadata": {},
   "outputs": [
    {
     "data": {
      "text/plain": [
       "5"
      ]
     },
     "execution_count": 42,
     "metadata": {},
     "output_type": "execute_result"
    }
   ],
   "source": [
    "#Calculate the number of “G” in dnaseq and print the number\n",
    "num_G = dna_seq.count('G')\n",
    "num_G"
   ]
  },
  {
   "cell_type": "markdown",
   "id": "fbe7dfc3",
   "metadata": {},
   "source": [
    "## List"
   ]
  },
  {
   "cell_type": "code",
   "execution_count": 44,
   "id": "27ae6fd6",
   "metadata": {},
   "outputs": [
    {
     "name": "stdout",
     "output_type": "stream",
     "text": [
      "['apple', 'banana', 'orange']\n",
      "[1, 2, 3, 4, 5]\n",
      "[1, 'apple', True, 3.14]\n"
     ]
    }
   ],
   "source": [
    "# Creating lists\n",
    "fruits = ['apple', 'banana', 'orange']\n",
    "numbers = [1, 2, 3, 4, 5]\n",
    "mixed_list = [1, 'apple', True, 3.14]\n",
    "print(fruits)\n",
    "print(numbers)\n",
    "print(mixed_list)"
   ]
  },
  {
   "cell_type": "code",
   "execution_count": 45,
   "id": "cd42af1a",
   "metadata": {},
   "outputs": [
    {
     "name": "stdout",
     "output_type": "stream",
     "text": [
      "apple\n"
     ]
    }
   ],
   "source": [
    "# Accessing lists\n",
    "print(fruits[0])  "
   ]
  },
  {
   "cell_type": "code",
   "execution_count": 46,
   "id": "12c7e02d",
   "metadata": {},
   "outputs": [
    {
     "name": "stdout",
     "output_type": "stream",
     "text": [
      "[2, 3, 4]\n"
     ]
    }
   ],
   "source": [
    "# Slicing lists, the last item will be no included\n",
    "print(numbers[1:4])  "
   ]
  },
  {
   "cell_type": "code",
   "execution_count": 47,
   "id": "94aaf84f",
   "metadata": {},
   "outputs": [
    {
     "name": "stdout",
     "output_type": "stream",
     "text": [
      "['pear', 'banana', 'orange']\n"
     ]
    }
   ],
   "source": [
    "# Reassigning lists (mutable)\n",
    "fruits[0] = 'pear'\n",
    "print(fruits)  "
   ]
  },
  {
   "cell_type": "code",
   "execution_count": 48,
   "id": "18fa68d1",
   "metadata": {},
   "outputs": [
    {
     "name": "stdout",
     "output_type": "stream",
     "text": [
      "['pear', 'orange']\n"
     ]
    }
   ],
   "source": [
    "# Deleting elements\n",
    "del fruits[1]\n",
    "print(fruits) "
   ]
  },
  {
   "cell_type": "code",
   "execution_count": 49,
   "id": "e01aeb66",
   "metadata": {},
   "outputs": [
    {
     "name": "stdout",
     "output_type": "stream",
     "text": [
      "[[1, 2, 3], [4, 5, 6], [7, 8, 9]]\n",
      "6\n"
     ]
    }
   ],
   "source": [
    "# Multidimensional Lists,it is 3x3 matrix\n",
    "# Assessing an element in first row and second column \n",
    "matrix = [[1, 2, 3], [4, 5, 6], [7, 8, 9]]\n",
    "print(matrix)\n",
    "print(matrix[1][2]) "
   ]
  },
  {
   "cell_type": "code",
   "execution_count": 51,
   "id": "3e2c60a9",
   "metadata": {},
   "outputs": [
    {
     "name": "stdout",
     "output_type": "stream",
     "text": [
      "['pear', 'orange', 1, 2, 3, 4, 5]\n"
     ]
    }
   ],
   "source": [
    "# Concatenation of Lists\n",
    "combined_list = fruits + numbers\n",
    "print(combined_list)  # Output: ['pear', 'orange', 1, 2, 3, 4, 5]"
   ]
  },
  {
   "cell_type": "code",
   "execution_count": 52,
   "id": "4205a2b1",
   "metadata": {},
   "outputs": [
    {
     "name": "stdout",
     "output_type": "stream",
     "text": [
      "2\n",
      "5\n",
      "1\n",
      "15\n"
     ]
    }
   ],
   "source": [
    "# Operations on Lists\n",
    "print(len(fruits))  \n",
    "print(max(numbers))  \n",
    "print(min(numbers))  \n",
    "print(sum(numbers)) "
   ]
  },
  {
   "cell_type": "code",
   "execution_count": 53,
   "id": "7a6d443d",
   "metadata": {},
   "outputs": [
    {
     "name": "stdout",
     "output_type": "stream",
     "text": [
      "pear\n",
      "orange\n"
     ]
    }
   ],
   "source": [
    "# Iterating on a list\n",
    "for fruit in fruits:\n",
    "    print(fruit)"
   ]
  },
  {
   "cell_type": "code",
   "execution_count": 30,
   "id": "6b12cb75",
   "metadata": {},
   "outputs": [
    {
     "name": "stdout",
     "output_type": "stream",
     "text": [
      "[1, 4, 9, 16, 25]\n"
     ]
    }
   ],
   "source": [
    "# List Comprehension\n",
    "squares = [x**2 for x in numbers]\n",
    "print(squares)  "
   ]
  },
  {
   "cell_type": "code",
   "execution_count": 31,
   "id": "b74aec5f",
   "metadata": {},
   "outputs": [
    {
     "name": "stdout",
     "output_type": "stream",
     "text": [
      "2\n",
      "[1, 2, 3, 4, 5]\n",
      "15\n",
      "['pear', 'orange', 'grape']\n",
      "['orange', 'grape']\n",
      "['orange', 'apple', 'grape']\n"
     ]
    }
   ],
   "source": [
    "# Built-in Functions\n",
    "print(len(fruits))  \n",
    "print(sorted(numbers))  \n",
    "print(sum(numbers))  \n",
    "\n",
    "# Built-in Methods\n",
    "fruits.append('grape')\n",
    "print(fruits)  \n",
    "fruits.remove('pear')\n",
    "print(fruits)  \n",
    "fruits.insert(1, 'apple')\n",
    "print(fruits)  \n"
   ]
  },
  {
   "cell_type": "code",
   "execution_count": 56,
   "id": "92c46288",
   "metadata": {},
   "outputs": [],
   "source": [
    "# Definitions/symbols\n",
    "pi = 3.1416\n",
    "\n",
    "# Initialize an empty list\n",
    "area=[]\n",
    "\n",
    "for r in range(1, 3):\n",
    "    Area=pi*r**2\n",
    "    area.append(Area)\n"
   ]
  },
  {
   "cell_type": "code",
   "execution_count": 57,
   "id": "7fedc6cc",
   "metadata": {},
   "outputs": [
    {
     "data": {
      "text/plain": [
       "[3.1416, 12.5664]"
      ]
     },
     "execution_count": 57,
     "metadata": {},
     "output_type": "execute_result"
    }
   ],
   "source": [
    "area"
   ]
  },
  {
   "cell_type": "code",
   "execution_count": null,
   "id": "b1ef475f",
   "metadata": {},
   "outputs": [],
   "source": []
  }
 ],
 "metadata": {
  "kernelspec": {
   "display_name": "Python 3 (ipykernel)",
   "language": "python",
   "name": "python3"
  },
  "language_info": {
   "codemirror_mode": {
    "name": "ipython",
    "version": 3
   },
   "file_extension": ".py",
   "mimetype": "text/x-python",
   "name": "python",
   "nbconvert_exporter": "python",
   "pygments_lexer": "ipython3",
   "version": "3.10.9"
  }
 },
 "nbformat": 4,
 "nbformat_minor": 5
}
