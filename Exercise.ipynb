{
 "cells": [
  {
   "cell_type": "markdown",
   "id": "dcc34375",
   "metadata": {},
   "source": [
    "## 1. Variables and Data Types:"
   ]
  },
  {
   "cell_type": "markdown",
   "id": "030522f8",
   "metadata": {},
   "source": [
    "#### a) Declare two variables x and y with values 5 and 3, respectively. Calculate and print their sum."
   ]
  },
  {
   "cell_type": "code",
   "execution_count": 47,
   "id": "ba9f7a49",
   "metadata": {},
   "outputs": [
    {
     "name": "stdout",
     "output_type": "stream",
     "text": [
      "Sum of x and y: 8\n"
     ]
    }
   ],
   "source": [
    "x = 5\n",
    "y = 3\n",
    "sum = x + y\n",
    "print(\"Sum of x and y:\", sum)"
   ]
  },
  {
   "cell_type": "markdown",
   "id": "49fbb861",
   "metadata": {},
   "source": [
    "#### b) Create a variable name and assign your name to it. Then, print a greeting message using that variable."
   ]
  },
  {
   "cell_type": "code",
   "execution_count": 48,
   "id": "17788bb2",
   "metadata": {},
   "outputs": [
    {
     "name": "stdout",
     "output_type": "stream",
     "text": [
      "Hello, Nasrin!\n"
     ]
    }
   ],
   "source": [
    "name = \"Nasrin\"\n",
    "print(\"Hello, \" + name + \"!\")"
   ]
  },
  {
   "cell_type": "markdown",
   "id": "ef03c8a7",
   "metadata": {},
   "source": [
    "## 2. Indexing and Slicing"
   ]
  },
  {
   "cell_type": "markdown",
   "id": "155bf56a",
   "metadata": {},
   "source": [
    "#### a) Given a list of numbers [1, 2, 3, 4, 5], write Python code to print the first element, the last element, and a slice of the list from index 1 to 3."
   ]
  },
  {
   "cell_type": "code",
   "execution_count": 49,
   "id": "790b6d2f",
   "metadata": {},
   "outputs": [
    {
     "name": "stdout",
     "output_type": "stream",
     "text": [
      "First Element: 1\n",
      "Last Element: 5\n",
      "Slice: [2, 3, 4]\n"
     ]
    }
   ],
   "source": [
    "numbers = [1, 2, 3, 4, 5]\n",
    "print(\"First Element:\", numbers[0])\n",
    "print(\"Last Element:\", numbers[-1])\n",
    "print(\"Slice:\", numbers[1:4])\n"
   ]
  },
  {
   "cell_type": "markdown",
   "id": "8e085b22",
   "metadata": {},
   "source": [
    "## 3. String Immutability"
   ]
  },
  {
   "cell_type": "markdown",
   "id": "eb635c2a",
   "metadata": {},
   "source": [
    "#### a) Concatenate two strings and store the result in the original string variable."
   ]
  },
  {
   "cell_type": "code",
   "execution_count": 50,
   "id": "d7430564",
   "metadata": {},
   "outputs": [
    {
     "name": "stdout",
     "output_type": "stream",
     "text": [
      "Original Text: Hello\n",
      "Concatenated Text: Hello World\n"
     ]
    }
   ],
   "source": [
    "text = \"Hello\"\n",
    "new_text = text + \" World\"  # Concatenate \" World\" to the existing string\n",
    "print(\"Original Text:\", text)  # Output will still be \"Hello\"\n",
    "print(\"Concatenated Text:\", new_text)  # Output will be \"Hello World\""
   ]
  },
  {
   "cell_type": "markdown",
   "id": "7175d543",
   "metadata": {},
   "source": [
    "###### Note: The result of the concatenation is stored in a new variable new_text, not in the original text variable. This demonstrates that the original string remains unchanged, and a new string is created instead.String immutability means that once a string is created, its contents cannot be changed. Any operation that seems to modify a string actually creates a new string with the desired changes. The original string remains the same."
   ]
  },
  {
   "cell_type": "markdown",
   "id": "1b025ef6",
   "metadata": {},
   "source": [
    "## 4. List Mutability"
   ]
  },
  {
   "cell_type": "markdown",
   "id": "10970e88",
   "metadata": {},
   "source": [
    "#### a) Given a list of fruits fruits = ['apple', 'banana', 'orange'], write Python code to add a new fruit 'grapes' to the list."
   ]
  },
  {
   "cell_type": "code",
   "execution_count": 51,
   "id": "02d3fa9d",
   "metadata": {},
   "outputs": [
    {
     "name": "stdout",
     "output_type": "stream",
     "text": [
      "Updated List: ['apple', 'banana', 'orange', 'grapes']\n"
     ]
    }
   ],
   "source": [
    "fruits = ['apple', 'banana', 'orange']\n",
    "fruits.append('grapes')\n",
    "print(\"Updated List:\", fruits)"
   ]
  },
  {
   "cell_type": "markdown",
   "id": "bfea973e",
   "metadata": {},
   "source": [
    "#### b) Write Python code to remove the fruit 'banana' from the list."
   ]
  },
  {
   "cell_type": "code",
   "execution_count": 52,
   "id": "a857201f",
   "metadata": {},
   "outputs": [
    {
     "name": "stdout",
     "output_type": "stream",
     "text": [
      "Updated List: ['apple', 'orange']\n"
     ]
    }
   ],
   "source": [
    "fruits = ['apple', 'banana', 'orange']\n",
    "fruits.remove('banana')\n",
    "print(\"Updated List:\", fruits)"
   ]
  },
  {
   "cell_type": "markdown",
   "id": "e876e72a",
   "metadata": {},
   "source": [
    "## 5. Conditional Statements:"
   ]
  },
  {
   "cell_type": "markdown",
   "id": "2827c18e",
   "metadata": {},
   "source": [
    "#### a) Write a Python program that takes an integer as input and checks if it is even or odd. Print an appropriate message."
   ]
  },
  {
   "cell_type": "code",
   "execution_count": 53,
   "id": "86bfec84",
   "metadata": {},
   "outputs": [
    {
     "name": "stdout",
     "output_type": "stream",
     "text": [
      "Enter an integer: 4\n",
      "4 is even.\n"
     ]
    }
   ],
   "source": [
    "num = int(input(\"Enter an integer: \"))\n",
    "if num % 2 == 0:  # checks if the remainder of the division of num by 2 is equal to 0.\n",
    "    print(num, \"is even.\")\n",
    "else:\n",
    "    print(num, \"is odd.\")\n"
   ]
  },
  {
   "cell_type": "markdown",
   "id": "56086630",
   "metadata": {},
   "source": [
    "#### b) Given the following list: numbers = [10, 20, 30, 40, 50], use a loop to print all the numbers greater than 30."
   ]
  },
  {
   "cell_type": "code",
   "execution_count": 54,
   "id": "154c2d9f",
   "metadata": {},
   "outputs": [
    {
     "name": "stdout",
     "output_type": "stream",
     "text": [
      "40\n",
      "50\n"
     ]
    }
   ],
   "source": [
    "numbers = [10, 20, 30, 40, 50]\n",
    "for num in numbers:\n",
    "    if num > 30:\n",
    "        print(num)\n"
   ]
  },
  {
   "cell_type": "markdown",
   "id": "998418c1",
   "metadata": {},
   "source": [
    "## 6. Loops:"
   ]
  },
  {
   "cell_type": "markdown",
   "id": "30a5fcdf",
   "metadata": {},
   "source": [
    "#### a) Write a Python program to calculate the factorial of a given number using a while loop."
   ]
  },
  {
   "cell_type": "code",
   "execution_count": 55,
   "id": "88130dcb",
   "metadata": {},
   "outputs": [
    {
     "name": "stdout",
     "output_type": "stream",
     "text": [
      "Enter a number: 4\n",
      "Factorial: 24\n"
     ]
    }
   ],
   "source": [
    "num = int(input(\"Enter a number: \"))\n",
    "factorial = 1 # The factorial of any number is defined as the product of all positive integers from 1 to that number.\n",
    "while num > 0: # ensures that we keep multiplying the factorial variable with num until we reach 1.\n",
    "    factorial *= num\n",
    "    num -= 1\n",
    "print(\"Factorial:\", factorial)\n"
   ]
  },
  {
   "cell_type": "markdown",
   "id": "8fc83245",
   "metadata": {},
   "source": [
    "#### b) Given a list of numbers: numbers = [1, 2, 3, 4, 5], use a for loop to calculate and print the square of each number."
   ]
  },
  {
   "cell_type": "code",
   "execution_count": 56,
   "id": "5df28ea6",
   "metadata": {},
   "outputs": [
    {
     "name": "stdout",
     "output_type": "stream",
     "text": [
      "Square of 1: 1\n",
      "Square of 2: 4\n",
      "Square of 3: 9\n",
      "Square of 4: 16\n",
      "Square of 5: 25\n"
     ]
    }
   ],
   "source": [
    "numbers = [1, 2, 3, 4, 5]\n",
    "for num in numbers:\n",
    "    square = num ** 2\n",
    "    print(f\"Square of {num}: {square}\")"
   ]
  },
  {
   "cell_type": "markdown",
   "id": "f3142f39",
   "metadata": {},
   "source": [
    "## 7. Functions:"
   ]
  },
  {
   "cell_type": "markdown",
   "id": "f5f56001",
   "metadata": {},
   "source": [
    "#### a) Write a Python function called multiply that takes two arguments and returns their product."
   ]
  },
  {
   "cell_type": "code",
   "execution_count": 57,
   "id": "15398ede",
   "metadata": {},
   "outputs": [
    {
     "name": "stdout",
     "output_type": "stream",
     "text": [
      "Product of a and b: 15\n"
     ]
    }
   ],
   "source": [
    "def multiply(a, b):\n",
    "    return a * b\n",
    "\n",
    "result = multiply(5, 3)\n",
    "print(\"Product of a and b:\", result)\n"
   ]
  },
  {
   "cell_type": "markdown",
   "id": "f4468d7d",
   "metadata": {},
   "source": [
    "#### b) Write a Python function called fahrenheit_to_celsius that takes a temperature in Fahrenheit as input and returns the equivalent temperature in Celsius.\n",
    "\n",
    "##### The formula to convert Fahrenheit to Celsius is: Celsius = (Fahrenheit - 32) * 5/9"
   ]
  },
  {
   "cell_type": "code",
   "execution_count": 58,
   "id": "b2dcc463",
   "metadata": {},
   "outputs": [
    {
     "name": "stdout",
     "output_type": "stream",
     "text": [
      "0.0000\n",
      "100.0000\n"
     ]
    }
   ],
   "source": [
    "def fahrenheit_to_celsius(fahrenheit):\n",
    "    celsius = (fahrenheit - 32) * 5 / 9\n",
    "    return round(celsius, 4) # round the result to 4 decimal places\n",
    "\n",
    "# Test the function\n",
    "print(\"{:.4f}\".format(fahrenheit_to_celsius(32)))   \n",
    "print(\"{:.4f}\".format(fahrenheit_to_celsius(212)))  "
   ]
  },
  {
   "cell_type": "markdown",
   "id": "39e51922",
   "metadata": {},
   "source": [
    "## 8. Lists and List Comprehensions:"
   ]
  },
  {
   "cell_type": "markdown",
   "id": "59174eca",
   "metadata": {},
   "source": [
    "#### a) Given the list fruits = ['apple', 'banana', 'cherry', 'orange'], use list comprehension to create a new list containing the length of each fruit's name."
   ]
  },
  {
   "cell_type": "code",
   "execution_count": 59,
   "id": "a0e702bb",
   "metadata": {},
   "outputs": [
    {
     "name": "stdout",
     "output_type": "stream",
     "text": [
      "Lengths: [5, 6, 6, 6]\n"
     ]
    }
   ],
   "source": [
    "fruits = ['apple', 'banana', 'cherry', 'orange']\n",
    "lengths = [len(fruit) for fruit in fruits]\n",
    "print(\"Lengths:\", lengths)\n"
   ]
  },
  {
   "cell_type": "markdown",
   "id": "aab99d91",
   "metadata": {},
   "source": [
    "#### b) Write a Python program that takes a list of numbers as input and returns a new list containing only the even numbers."
   ]
  },
  {
   "cell_type": "code",
   "execution_count": 60,
   "id": "ab31e2d9",
   "metadata": {},
   "outputs": [
    {
     "name": "stdout",
     "output_type": "stream",
     "text": [
      "Even numbers: [2, 4, 6, 8, 10]\n"
     ]
    }
   ],
   "source": [
    "def get_even_numbers(numbers):\n",
    "    return [num for num in numbers if num % 2 == 0]\n",
    "\n",
    "numbers = [1, 2, 3, 4, 5, 6, 7, 8, 9, 10]\n",
    "even_numbers = get_even_numbers(numbers)\n",
    "print(\"Even numbers:\", even_numbers)\n"
   ]
  },
  {
   "cell_type": "markdown",
   "id": "3cae50e2",
   "metadata": {},
   "source": [
    "## 9. Dictionaries:"
   ]
  },
  {
   "cell_type": "markdown",
   "id": "ebeb4795",
   "metadata": {},
   "source": [
    "#### a) Create a dictionary student with the following key-value pairs: \"name\": \"John Doe\", \"age\": 25, \"major\": \"Computer Science\". Print the dictionary."
   ]
  },
  {
   "cell_type": "code",
   "execution_count": 61,
   "id": "ff62a59b",
   "metadata": {},
   "outputs": [
    {
     "name": "stdout",
     "output_type": "stream",
     "text": [
      "Student: {'name': 'John Doe', 'age': 25, 'major': 'Computer Science'}\n"
     ]
    }
   ],
   "source": [
    "student = {\n",
    "    \"name\": \"John Doe\",\n",
    "    \"age\": 25,\n",
    "    \"major\": \"Computer Science\"\n",
    "}\n",
    "print(\"Student:\", student)\n"
   ]
  },
  {
   "cell_type": "markdown",
   "id": "5bfb43b8",
   "metadata": {},
   "source": [
    "#### b) Write a Python program that takes a list of words as input and counts the frequency of each word, storing the result in a dictionary."
   ]
  },
  {
   "cell_type": "code",
   "execution_count": 62,
   "id": "4c94be76",
   "metadata": {},
   "outputs": [
    {
     "name": "stdout",
     "output_type": "stream",
     "text": [
      "Enter some text: we love codeworkshop\n",
      "Vowel Count: 7\n"
     ]
    }
   ],
   "source": [
    "def count_vowels(text):\n",
    "    vowels = \"aeiouAEIOU\"\n",
    "    count = 0\n",
    "    for char in text:\n",
    "        if char in vowels: # If char is found in vowels, it means it is a vowel character, so we increment the count variable.\n",
    "            count += 1\n",
    "    return count\n",
    "\n",
    "# Test the function\n",
    "text = input(\"Enter some text: \")\n",
    "print(\"Vowel Count:\", count_vowels(text))\n"
   ]
  }
 ],
 "metadata": {
  "kernelspec": {
   "display_name": "Python 3 (ipykernel)",
   "language": "python",
   "name": "python3"
  },
  "language_info": {
   "codemirror_mode": {
    "name": "ipython",
    "version": 3
   },
   "file_extension": ".py",
   "mimetype": "text/x-python",
   "name": "python",
   "nbconvert_exporter": "python",
   "pygments_lexer": "ipython3",
   "version": "3.10.9"
  }
 },
 "nbformat": 4,
 "nbformat_minor": 5
}
