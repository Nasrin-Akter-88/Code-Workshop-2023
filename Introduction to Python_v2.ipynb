{
 "cells": [
  {
   "cell_type": "markdown",
   "id": "886d447d",
   "metadata": {},
   "source": [
    "# Introduction to Python"
   ]
  },
  {
   "cell_type": "markdown",
   "id": "fbe7dfc3",
   "metadata": {},
   "source": [
    "## List"
   ]
  },
  {
   "cell_type": "code",
   "execution_count": 44,
   "id": "27ae6fd6",
   "metadata": {},
   "outputs": [
    {
     "name": "stdout",
     "output_type": "stream",
     "text": [
      "['apple', 'banana', 'orange']\n",
      "[1, 2, 3, 4, 5]\n",
      "[1, 'apple', True, 3.14]\n"
     ]
    }
   ],
   "source": [
    "# Creating lists\n",
    "fruits = ['apple', 'banana', 'orange']\n",
    "numbers = [1, 2, 3, 4, 5]\n",
    "mixed_list = [1, 'apple', True, 3.14]\n",
    "print(fruits)\n",
    "print(numbers)\n",
    "print(mixed_list)"
   ]
  },
  {
   "cell_type": "code",
   "execution_count": 45,
   "id": "cd42af1a",
   "metadata": {},
   "outputs": [
    {
     "name": "stdout",
     "output_type": "stream",
     "text": [
      "apple\n"
     ]
    }
   ],
   "source": [
    "# Accessing lists\n",
    "print(fruits[0])  "
   ]
  },
  {
   "cell_type": "code",
   "execution_count": 46,
   "id": "12c7e02d",
   "metadata": {},
   "outputs": [
    {
     "name": "stdout",
     "output_type": "stream",
     "text": [
      "[2, 3, 4]\n"
     ]
    }
   ],
   "source": [
    "# Slicing lists, the last item will be no included\n",
    "print(numbers[1:4])  "
   ]
  },
  {
   "cell_type": "code",
   "execution_count": 47,
   "id": "94aaf84f",
   "metadata": {},
   "outputs": [
    {
     "name": "stdout",
     "output_type": "stream",
     "text": [
      "['pear', 'banana', 'orange']\n"
     ]
    }
   ],
   "source": [
    "# Reassigning lists (mutable)\n",
    "fruits[0] = 'pear'\n",
    "print(fruits)  "
   ]
  },
  {
   "cell_type": "code",
   "execution_count": 48,
   "id": "18fa68d1",
   "metadata": {},
   "outputs": [
    {
     "name": "stdout",
     "output_type": "stream",
     "text": [
      "['pear', 'orange']\n"
     ]
    }
   ],
   "source": [
    "# Deleting elements\n",
    "del fruits[1]\n",
    "print(fruits) "
   ]
  },
  {
   "cell_type": "code",
   "execution_count": 49,
   "id": "e01aeb66",
   "metadata": {},
   "outputs": [
    {
     "name": "stdout",
     "output_type": "stream",
     "text": [
      "[[1, 2, 3], [4, 5, 6], [7, 8, 9]]\n",
      "6\n"
     ]
    }
   ],
   "source": [
    "# Multidimensional Lists,it is 3x3 matrix\n",
    "# Assessing an element in first row and second column \n",
    "matrix = [[1, 2, 3], [4, 5, 6], [7, 8, 9]]\n",
    "print(matrix)\n",
    "print(matrix[1][2]) "
   ]
  },
  {
   "cell_type": "code",
   "execution_count": 51,
   "id": "3e2c60a9",
   "metadata": {},
   "outputs": [
    {
     "name": "stdout",
     "output_type": "stream",
     "text": [
      "['pear', 'orange', 1, 2, 3, 4, 5]\n"
     ]
    }
   ],
   "source": [
    "# Concatenation of Lists\n",
    "combined_list = fruits + numbers\n",
    "print(combined_list)  # Output: ['pear', 'orange', 1, 2, 3, 4, 5]"
   ]
  },
  {
   "cell_type": "code",
   "execution_count": 52,
   "id": "4205a2b1",
   "metadata": {},
   "outputs": [
    {
     "name": "stdout",
     "output_type": "stream",
     "text": [
      "2\n",
      "5\n",
      "1\n",
      "15\n"
     ]
    }
   ],
   "source": [
    "# Operations on Lists\n",
    "print(len(fruits))  \n",
    "print(max(numbers))  \n",
    "print(min(numbers))  \n",
    "print(sum(numbers)) "
   ]
  },
  {
   "cell_type": "code",
   "execution_count": 53,
   "id": "7a6d443d",
   "metadata": {},
   "outputs": [
    {
     "name": "stdout",
     "output_type": "stream",
     "text": [
      "pear\n",
      "orange\n"
     ]
    }
   ],
   "source": [
    "# Iterating on a list\n",
    "for fruit in fruits:\n",
    "    print(fruit)"
   ]
  },
  {
   "cell_type": "code",
   "execution_count": 30,
   "id": "6b12cb75",
   "metadata": {},
   "outputs": [
    {
     "name": "stdout",
     "output_type": "stream",
     "text": [
      "[1, 4, 9, 16, 25]\n"
     ]
    }
   ],
   "source": [
    "# List Comprehension\n",
    "squares = [x**2 for x in numbers]\n",
    "print(squares)  "
   ]
  },
  {
   "cell_type": "code",
   "execution_count": 31,
   "id": "b74aec5f",
   "metadata": {},
   "outputs": [
    {
     "name": "stdout",
     "output_type": "stream",
     "text": [
      "2\n",
      "[1, 2, 3, 4, 5]\n",
      "15\n",
      "['pear', 'orange', 'grape']\n",
      "['orange', 'grape']\n",
      "['orange', 'apple', 'grape']\n"
     ]
    }
   ],
   "source": [
    "# Built-in Functions\n",
    "print(len(fruits))  \n",
    "print(sorted(numbers))  \n",
    "print(sum(numbers))  \n",
    "\n",
    "# Built-in Methods\n",
    "fruits.append('grape')\n",
    "print(fruits)  \n",
    "fruits.remove('pear')\n",
    "print(fruits)  \n",
    "fruits.insert(1, 'apple')\n",
    "print(fruits)  \n"
   ]
  },
  {
   "cell_type": "code",
   "execution_count": null,
   "id": "b1ef475f",
   "metadata": {},
   "outputs": [],
   "source": []
  }
 ],
 "metadata": {
  "kernelspec": {
   "display_name": "Python 3 (ipykernel)",
   "language": "python",
   "name": "python3"
  },
  "language_info": {
   "codemirror_mode": {
    "name": "ipython",
    "version": 3
   },
   "file_extension": ".py",
   "mimetype": "text/x-python",
   "name": "python",
   "nbconvert_exporter": "python",
   "pygments_lexer": "ipython3",
   "version": "3.10.9"
  }
 },
 "nbformat": 4,
 "nbformat_minor": 5
}
